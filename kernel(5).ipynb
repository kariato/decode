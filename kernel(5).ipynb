{
  "cells": [
    {
      "metadata": {
        "trusted": true,
        "_uuid": "3dfe45c220b50796f2c3713b144c5f264bf19805"
      },
      "cell_type": "code",
      "source": "import collections\nfrom collections import Counter\nimport pandas as pd\nimport numpy as np\nimport glob\nfrom scipy import stats\nimport concurrent.futures\nimport nltk\nimport os\nfrom nltk.tokenize import RegexpTokenizer\nimport json\nfrom nltk.data import load\nfrom nltk.tokenize.treebank import TreebankWordTokenizer\nfrom sklearn.metrics.pairwise import pairwise_distances\nimport codecs",
      "execution_count": null,
      "outputs": []
    },
    {
      "metadata": {
        "trusted": true,
        "_uuid": "53c4275efd3d7799e0e5d0dccdcd7b612ac57374"
      },
      "cell_type": "code",
      "source": "cypher=pd.read_csv(\"../input/train.csv\")",
      "execution_count": null,
      "outputs": []
    },
    {
      "metadata": {
        "trusted": true,
        "_uuid": "3ff3fa7898e86633d206e5facd9364bc3f5c046f"
      },
      "cell_type": "code",
      "source": "list(cypher.columns.values)",
      "execution_count": null,
      "outputs": []
    },
    {
      "metadata": {
        "trusted": true,
        "_uuid": "fe8ab02834aa9f1467da23fd228fe03b185f23d7"
      },
      "cell_type": "code",
      "source": "single_layer = cypher[cypher['difficulty']==1].copy()\nsingle_layer['ciphertext'] = single_layer['ciphertext'].map(lambda x: str(x)[:300])\nsingle_layer['ciphertextshort'] = single_layer['ciphertext'].map(lambda x: str(x)[:6])\nsingle_layer['ciphertextlist'] = single_layer['ciphertext'].map(lambda x: list(str(x)))\nsingle_layer['ciphertextascii'] = single_layer['ciphertextlist'].map(lambda x: [ord(y) for y in x])\nsingle_layer['ciphertextdecode'] = single_layer['ciphertextascii'].map(lambda x: [chr(y-17) if y > 16 else chr(y+111) for y in x ])\nsingle_layer['ciphertextMost'] = single_layer['ciphertextascii'].map(lambda x: Counter(x).most_common(5))\n",
      "execution_count": null,
      "outputs": []
    },
    {
      "metadata": {
        "trusted": true,
        "_uuid": "8b7bc9f2e20387407eb50264492d94dc455b0fb6"
      },
      "cell_type": "code",
      "source": "Counter(' '.join(single_layer['ciphertext'].astype(str).values)).most_common(5)",
      "execution_count": null,
      "outputs": []
    },
    {
      "metadata": {
        "trusted": true,
        "_uuid": "1830004f5166867c0271f359585da62c1a197bc1"
      },
      "cell_type": "code",
      "source": "Counter(single_layer['ciphertextshort'].tolist()).most_common(20)",
      "execution_count": null,
      "outputs": []
    },
    {
      "metadata": {
        "trusted": true,
        "_uuid": "24faf5a67df6bac322fcc963c180a940f1aec095"
      },
      "cell_type": "code",
      "source": "cypher[cypher.apply(lambda row: \"reddit\" in row['ciphertext'], axis=1)]",
      "execution_count": null,
      "outputs": []
    },
    {
      "metadata": {
        "trusted": true,
        "_uuid": "b27ff0268abfbc5a4b07a64dcdedec70c07ba1a6"
      },
      "cell_type": "code",
      "source": "single_layer",
      "execution_count": null,
      "outputs": []
    }
  ],
  "metadata": {
    "kernelspec": {
      "display_name": "Python 3",
      "language": "python",
      "name": "python3"
    },
    "language_info": {
      "name": "python",
      "version": "3.6.6",
      "mimetype": "text/x-python",
      "codemirror_mode": {
        "name": "ipython",
        "version": 3
      },
      "pygments_lexer": "ipython3",
      "nbconvert_exporter": "python",
      "file_extension": ".py"
    }
  },
  "nbformat": 4,
  "nbformat_minor": 1
}